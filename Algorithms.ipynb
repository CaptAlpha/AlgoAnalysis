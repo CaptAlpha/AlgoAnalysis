{
 "cells": [
  {
   "cell_type": "code",
   "execution_count": 33,
   "metadata": {},
   "outputs": [],
   "source": [
    "import random\n",
    "import time\n",
    "from tqdm import tqdm"
   ]
  },
  {
   "cell_type": "code",
   "execution_count": 34,
   "metadata": {},
   "outputs": [],
   "source": [
    "rl_10 = random.sample(range(1, 11), 10)\n",
    "rl_100 = random.sample(range(1, 101), 100)\n",
    "rl_500 = random.sample(range(1, 501), 500)\n",
    "rl_1000 = random.sample(range(1, 1001), 1000)\n",
    "rl_5000 = random.sample(range(1, 5001), 5000)\n",
    "rl_10000 = random.sample(range(1, 10001), 10000)\n",
    "rl_50000 = random.sample(range(1, 50001), 50000)\n",
    "rl_100000 = random.sample(range(1, 100001), 100000)\n",
    "rl_500000 = random.sample(range(1, 500001), 500000)\n",
    "rl_1000000 = random.sample(range(1, 1000001), 1000000)\n",
    "rl_5000000 = random.sample(range(1, 5000001), 5000000)"
   ]
  },
  {
   "cell_type": "code",
   "execution_count": 30,
   "metadata": {},
   "outputs": [],
   "source": [
    "# Bubble sort\n",
    "def bubbleSort(list1):\n",
    "    t1 = time.time()\n",
    "    for i in range(0, len(list1)-1):\n",
    "        for j in range(0, len(list1)-1-i):\n",
    "            if list1[j]>list1[j+1]:\n",
    "                temp = list1[j]\n",
    "                list1[j] = list1[j+1]\n",
    "                list1[j+1] = temp\n",
    "    \n",
    "    print(\"Sample Size =\", len(list1), \"Time = \", time.time()"
   ]
  },
  {
   "cell_type": "code",
   "execution_count": null,
   "metadata": {},
   "outputs": [],
   "source": []
  },
  {
   "cell_type": "code",
   "execution_count": 30,
   "metadata": {},
   "outputs": [],
   "source": []
  }
 ],
 "metadata": {
  "kernelspec": {
   "display_name": "Python 3",
   "language": "python",
   "name": "python3"
  },
  "language_info": {
   "codemirror_mode": {
    "name": "ipython",
    "version": 3
   },
   "file_extension": ".py",
   "mimetype": "text/x-python",
   "name": "python",
   "nbconvert_exporter": "python",
   "pygments_lexer": "ipython3",
   "version": "3.8.3"
  }
 },
 "nbformat": 4,
 "nbformat_minor": 4
}
